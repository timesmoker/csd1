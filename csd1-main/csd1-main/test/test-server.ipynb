{
 "cells": [
  {
   "cell_type": "code",
   "id": "initial_id",
   "metadata": {
    "collapsed": true,
    "ExecuteTime": {
     "end_time": "2024-11-19T16:47:17.786120Z",
     "start_time": "2024-11-19T16:47:17.784483Z"
    }
   },
   "source": [],
   "outputs": [],
   "execution_count": null
  },
  {
   "metadata": {
    "ExecuteTime": {
     "end_time": "2024-11-28T12:05:49.390589Z",
     "start_time": "2024-11-28T12:05:49.365723Z"
    }
   },
   "cell_type": "code",
   "source": [
    "import requests\n",
    "import json\n",
    "\n",
    "# 서버 URL\n",
    "base_url = \"http://52.78.34.60:5986\"  # Flask 서버 주소 입력 (IP 또는 도메인)\n",
    "\n",
    "# 사용자 이름 예제\n",
    "username = \"asdfasdf\"\n",
    "\n",
    "\n",
    "# 사용자 데이터 업데이트를 위한 함수\n",
    "def update_user_total_score(username, new_score):\n",
    "    # 업데이트할 데이터\n",
    "    updated_data = {\n",
    "        \"total_score\": new_score\n",
    "    }\n",
    "    \n",
    "    # 업데이트 URL\n",
    "    url = f\"{base_url}/update_data/{username}\"\n",
    "    \n",
    "    # PUT 요청 보내기\n",
    "    try:\n",
    "        response = requests.put(url, json=updated_data)\n",
    "        if response.status_code == 200:\n",
    "            print(\"사용자 데이터 업데이트 성공:\")\n",
    "            print(response.json())  # 서버로부터 반환된 응답 출력\n",
    "        else:\n",
    "            print(\"PUT 요청 실패:\", response.status_code)\n",
    "    except requests.exceptions.RequestException as e:\n",
    "        print(\"PUT 요청 중 오류 발생:\", e)\n",
    "\n",
    "# 업데이트 실행\n",
    "update_user_total_score('username', 95)  # alice의 total_score를 95로 변경"
   ],
   "id": "dd0ffa841f64388e",
   "outputs": [
    {
     "name": "stdout",
     "output_type": "stream",
     "text": [
      "PUT 요청 실패: 404\n"
     ]
    }
   ],
   "execution_count": 3
  },
  {
   "metadata": {
    "ExecuteTime": {
     "end_time": "2024-11-28T12:11:33.650239Z",
     "start_time": "2024-11-28T12:11:33.628223Z"
    }
   },
   "cell_type": "code",
   "source": [
    "\n",
    "# 1. GET 요청 - 사용자 데이터 가져오기\n",
    "def get_user_data(username):\n",
    "    url = f\"{base_url}/get_data/{username}\"\n",
    "    try:\n",
    "        response = requests.get(url)\n",
    "        if response.status_code == 200:\n",
    "            print(\"사용자 데이터 가져오기 성공:\")\n",
    "            print(json.dumps(response.json(), indent=4, ensure_ascii=False))\n",
    "        else:\n",
    "            print(\"GET 요청 실패:\", response.status_code)\n",
    "    except requests.exceptions.RequestException as e:\n",
    "        print(\"GET 요청 중 오류 발생:\", e)\n",
    "        \n",
    "get_user_data(\"alice\")"
   ],
   "id": "b955f19efacb40a7",
   "outputs": [
    {
     "name": "stdout",
     "output_type": "stream",
     "text": [
      "사용자 데이터 가져오기 성공:\n",
      "{\n",
      "    \"data\": {\n",
      "        \"negative_emotion\": 1,\n",
      "        \"positive_emotion\": 10,\n",
      "        \"total_problems\": 5,\n",
      "        \"total_score\": 95\n",
      "    },\n",
      "    \"username\": \"alice\"\n",
      "}\n"
     ]
    }
   ],
   "execution_count": 6
  },
  {
   "metadata": {
    "ExecuteTime": {
     "end_time": "2024-11-19T16:47:18.023320Z",
     "start_time": "2024-11-19T16:47:18.018716Z"
    }
   },
   "cell_type": "code",
   "source": [
    "\n",
    "\n",
    "# 2. PUT 요청 - 사용자 데이터 업데이트\n",
    "def update_user_data(username, updated_data):\n",
    "    url = f\"{base_url}/update_data/{username}\"\n",
    "    try:\n",
    "        response = requests.put(url, json=updated_data)\n",
    "        if response.status_code == 200:\n",
    "            print(\"사용자 데이터 업데이트 성공:\")\n",
    "            print(json.dumps(response.json(), indent=4, ensure_ascii=False))\n",
    "        else:\n",
    "            print(\"PUT 요청 실패:\", response.status_code)\n",
    "    except requests.exceptions.RequestException as e:\n",
    "        print(\"PUT 요청 중 오류 발생:\", e)"
   ],
   "id": "7bd493f7b432bb18",
   "outputs": [],
   "execution_count": 3
  },
  {
   "metadata": {
    "ExecuteTime": {
     "end_time": "2024-11-28T12:19:15.319564Z",
     "start_time": "2024-11-28T12:19:15.294815Z"
    }
   },
   "cell_type": "code",
   "source": [
    "\n",
    "fake_user_data = {\n",
    "        \"negative_emotion\": 2,\n",
    "        \"positive_emotion\": 8,\n",
    "        \"total_problems\": 3,\n",
    "        \"total_score\": 88\n",
    "}\n",
    "\n",
    "\n",
    "# 3. POST 요청 - 새로운 사용자 추가\n",
    "def add_user(username, new_user_data):\n",
    "    url = f\"{base_url}/add_user/{username}\"\n",
    "    try:\n",
    "        response = requests.post(url, json=new_user_data)\n",
    "        if response.status_code == 200:\n",
    "            print(\"새로운 사용자 추가 성공:\")\n",
    "            print(json.dumps(response.json(), indent=4, ensure_ascii=False))\n",
    "        else:\n",
    "            print(\"POST 요청 실패:\", response.status_code)\n",
    "    except requests.exceptions.RequestException as e:\n",
    "        print(\"POST 요청 중 오류 발생:\", e)\n",
    "        \n",
    "add_user(\"testman1\", fake_user_data)    "
   ],
   "id": "db5f7c5a46882156",
   "outputs": [
    {
     "name": "stdout",
     "output_type": "stream",
     "text": [
      "새로운 사용자 추가 성공:\n",
      "{\n",
      "    \"message\": \"User 'testman1' added successfully.\",\n",
      "    \"new_user_data\": {\n",
      "        \"negative_emotion\": 2,\n",
      "        \"positive_emotion\": 8,\n",
      "        \"total_problems\": 3,\n",
      "        \"total_score\": 88\n",
      "    }\n",
      "}\n"
     ]
    }
   ],
   "execution_count": 9
  }
 ],
 "metadata": {
  "kernelspec": {
   "display_name": "Python 3",
   "language": "python",
   "name": "python3"
  },
  "language_info": {
   "codemirror_mode": {
    "name": "ipython",
    "version": 2
   },
   "file_extension": ".py",
   "mimetype": "text/x-python",
   "name": "python",
   "nbconvert_exporter": "python",
   "pygments_lexer": "ipython2",
   "version": "2.7.6"
  }
 },
 "nbformat": 4,
 "nbformat_minor": 5
}
