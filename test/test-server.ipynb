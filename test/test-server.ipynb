{
 "cells": [
  {
   "cell_type": "code",
   "id": "initial_id",
   "metadata": {
    "collapsed": true,
    "ExecuteTime": {
     "end_time": "2024-11-19T16:47:17.786120Z",
     "start_time": "2024-11-19T16:47:17.784483Z"
    }
   },
   "source": [],
   "outputs": [],
   "execution_count": null
  },
  {
   "metadata": {
    "ExecuteTime": {
     "end_time": "2024-11-28T03:41:25.026745Z",
     "start_time": "2024-11-28T03:41:24.987609Z"
    }
   },
   "cell_type": "code",
   "source": [
    "import requests\n",
    "import json\n",
    "\n",
    "# 서버 URL\n",
    "base_url = \"http://52.78.34.60:5986\"  # Flask 서버 주소 입력 (IP 또는 도메인)\n",
    "\n",
    "# 사용자 이름 예제\n",
    "username = \"alice\"\n",
    "\n",
    "\n",
    "# 사용자 데이터 업데이트를 위한 함수\n",
    "def update_user_total_score(username, new_score):\n",
    "    # 업데이트할 데이터\n",
    "    updated_data = {\n",
    "        \"total_score\": new_score\n",
    "    }\n",
    "    \n",
    "    # 업데이트 URL\n",
    "    url = f\"{base_url}/update_data/{username}\"\n",
    "    \n",
    "    # PUT 요청 보내기\n",
    "    try:\n",
    "        response = requests.put(url, json=updated_data)\n",
    "        if response.status_code == 200:\n",
    "            print(\"사용자 데이터 업데이트 성공:\")\n",
    "            print(response.json())  # 서버로부터 반환된 응답 출력\n",
    "        else:\n",
    "            print(\"PUT 요청 실패:\", response.status_code)\n",
    "    except requests.exceptions.RequestException as e:\n",
    "        print(\"PUT 요청 중 오류 발생:\", e)\n",
    "\n",
    "# 업데이트 실행\n",
    "update_user_total_score('alice', 95)  # alice의 total_score를 95로 변경"
   ],
   "id": "dd0ffa841f64388e",
   "outputs": [
    {
     "name": "stdout",
     "output_type": "stream",
     "text": [
      "사용자 데이터 업데이트 성공:\n",
      "{'message': \"User 'alice' updated successfully.\", 'updated_data': {'negative_emotion': 1, 'positive_emotion': 10, 'total_problems': 5, 'total_score': 95}}\n"
     ]
    }
   ],
   "execution_count": 7
  },
  {
   "metadata": {
    "ExecuteTime": {
     "end_time": "2024-11-19T16:47:17.948585Z",
     "start_time": "2024-11-19T16:47:17.945479Z"
    }
   },
   "cell_type": "code",
   "source": [
    "\n",
    "# 1. GET 요청 - 사용자 데이터 가져오기\n",
    "def get_user_data(username):\n",
    "    url = f\"{base_url}/get_data/{username}\"\n",
    "    try:\n",
    "        response = requests.get(url)\n",
    "        if response.status_code == 200:\n",
    "            print(\"사용자 데이터 가져오기 성공:\")\n",
    "            print(json.dumps(response.json(), indent=4, ensure_ascii=False))\n",
    "        else:\n",
    "            print(\"GET 요청 실패:\", response.status_code)\n",
    "    except requests.exceptions.RequestException as e:\n",
    "        print(\"GET 요청 중 오류 발생:\", e)"
   ],
   "id": "b955f19efacb40a7",
   "outputs": [],
   "execution_count": 2
  },
  {
   "metadata": {
    "ExecuteTime": {
     "end_time": "2024-11-19T16:47:18.023320Z",
     "start_time": "2024-11-19T16:47:18.018716Z"
    }
   },
   "cell_type": "code",
   "source": [
    "\n",
    "\n",
    "# 2. PUT 요청 - 사용자 데이터 업데이트\n",
    "def update_user_data(username, updated_data):\n",
    "    url = f\"{base_url}/update_data/{username}\"\n",
    "    try:\n",
    "        response = requests.put(url, json=updated_data)\n",
    "        if response.status_code == 200:\n",
    "            print(\"사용자 데이터 업데이트 성공:\")\n",
    "            print(json.dumps(response.json(), indent=4, ensure_ascii=False))\n",
    "        else:\n",
    "            print(\"PUT 요청 실패:\", response.status_code)\n",
    "    except requests.exceptions.RequestException as e:\n",
    "        print(\"PUT 요청 중 오류 발생:\", e)"
   ],
   "id": "7bd493f7b432bb18",
   "outputs": [],
   "execution_count": 3
  },
  {
   "metadata": {
    "ExecuteTime": {
     "end_time": "2024-11-28T03:38:48.349625Z",
     "start_time": "2024-11-28T03:38:48.327946Z"
    }
   },
   "cell_type": "code",
   "source": [
    "\n",
    "\n",
    "# 3. POST 요청 - 새로운 사용자 추가\n",
    "def add_user(username, new_user_data):\n",
    "    url = f\"{base_url}/add_user/{username}\"\n",
    "    try:\n",
    "        response = requests.post(url, json=new_user_data)\n",
    "        if response.status_code == 200:\n",
    "            print(\"새로운 사용자 추가 성공:\")\n",
    "            print(json.dumps(response.json(), indent=4, ensure_ascii=False))\n",
    "        else:\n",
    "            print(\"POST 요청 실패:\", response.status_code)\n",
    "    except requests.exceptions.RequestException as e:\n",
    "        print(\"POST 요청 중 오류 발생:\", e)\n",
    "import requests\n",
    "import json\n",
    "\n",
    "# 서버의 기본 URL 설정\n",
    "base_url = 'http://localhost:5000/api'\n",
    "\n",
    "# 사용자 데이터 업데이트 함수\n",
    "def update_user_data(username, updated_data):\n",
    "    url = f\"{base_url}/update_data/{username}\"\n",
    "    try:\n",
    "        response = requests.put(url, json=updated_data)\n",
    "        if response.status_code == 200:\n",
    "            print(\"사용자 데이터 업데이트 성공:\")\n",
    "            print(json.dumps(response.json(), indent=4, ensure_ascii=False))\n",
    "        else:\n",
    "            print(\"PUT 요청 실패:\", response.status_code)\n",
    "    except requests.exceptions.RequestException as e:\n",
    "        print(\"PUT 요청 중 오류 발생:\", e)\n",
    "\n",
    "# 업데이트할 데이터\n",
    "updated_data = {\n",
    "    \"positive_emotion\": 7,\n",
    "    \"negative_emotion\": 1,\n",
    "    \"total_problems\": 4,\n",
    "    \"total_score\": 88\n",
    "}\n",
    "\n",
    "# 함수 호출\n",
    "update_user_data('alice', updated_data)\n"
   ],
   "id": "cefe44d3860064e2",
   "outputs": [
    {
     "name": "stdout",
     "output_type": "stream",
     "text": [
      "PUT 요청 실패: 403\n"
     ]
    }
   ],
   "execution_count": 6
  },
  {
   "metadata": {
    "ExecuteTime": {
     "end_time": "2024-11-19T16:47:18.210146Z",
     "start_time": "2024-11-19T16:47:18.152Z"
    }
   },
   "cell_type": "code",
   "source": [
    "\n",
    "# 클라이언트 실행 예제\n",
    "if __name__ == \"__main__\":\n",
    "    # 1. GET 요청 실행\n",
    "    print(\"=== GET 요청 ===\")\n",
    "    get_user_data(username)\n",
    "\n",
    "    # 2. PUT 요청 실행\n",
    "    updated_data = {\n",
    "        \"positive_emotion\": 10,\n",
    "        \"negative_emotion\": 1,\n",
    "        \"total_problems\": 5,\n",
    "        \"total_score\": 90\n",
    "    }\n",
    "    print(\"\\n=== PUT 요청 ===\")\n",
    "    update_user_data(username, updated_data)\n",
    "\n",
    "    # 3. POST 요청 실행\n",
    "    new_user_data = {\n",
    "        \"positive_emotion\": 8,\n",
    "        \"negative_emotion\": 2,\n",
    "        \"total_problems\": 4,\n",
    "        \"total_score\": 80\n",
    "    }\n",
    "    print(\"\\n=== POST 요청 ===\")\n",
    "    add_user(\"new_user\", new_user_data)\n"
   ],
   "id": "faf5e08b0bc9a287",
   "outputs": [
    {
     "name": "stdout",
     "output_type": "stream",
     "text": [
      "=== GET 요청 ===\n",
      "사용자 데이터 가져오기 성공:\n",
      "{\n",
      "    \"data\": {\n",
      "        \"negative_emotion\": 2,\n",
      "        \"positive_emotion\": 5,\n",
      "        \"total_problems\": 3,\n",
      "        \"total_score\": 85\n",
      "    },\n",
      "    \"username\": \"alice\"\n",
      "}\n",
      "\n",
      "=== PUT 요청 ===\n",
      "사용자 데이터 업데이트 성공:\n",
      "{\n",
      "    \"message\": \"User 'alice' updated successfully.\",\n",
      "    \"updated_data\": {\n",
      "        \"negative_emotion\": 1,\n",
      "        \"positive_emotion\": 10,\n",
      "        \"total_problems\": 5,\n",
      "        \"total_score\": 90\n",
      "    }\n",
      "}\n",
      "\n",
      "=== POST 요청 ===\n",
      "새로운 사용자 추가 성공:\n",
      "{\n",
      "    \"message\": \"User 'new_user' added successfully.\",\n",
      "    \"new_user_data\": {\n",
      "        \"negative_emotion\": 2,\n",
      "        \"positive_emotion\": 8,\n",
      "        \"total_problems\": 4,\n",
      "        \"total_score\": 80\n",
      "    }\n",
      "}\n"
     ]
    }
   ],
   "execution_count": 5
  }
 ],
 "metadata": {
  "kernelspec": {
   "display_name": "Python 3",
   "language": "python",
   "name": "python3"
  },
  "language_info": {
   "codemirror_mode": {
    "name": "ipython",
    "version": 2
   },
   "file_extension": ".py",
   "mimetype": "text/x-python",
   "name": "python",
   "nbconvert_exporter": "python",
   "pygments_lexer": "ipython2",
   "version": "2.7.6"
  }
 },
 "nbformat": 4,
 "nbformat_minor": 5
}
