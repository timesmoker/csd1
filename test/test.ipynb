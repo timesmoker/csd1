{
 "cells": [
  {
   "metadata": {
    "ExecuteTime": {
     "end_time": "2024-11-13T09:43:15.819683Z",
     "start_time": "2024-11-13T09:43:15.770143Z"
    }
   },
   "cell_type": "code",
   "source": [
    "# 필요한 모듈 임포트\n",
    "from functools import partial\n",
    "from dotenv import load_dotenv\n",
    "from langchain_together import ChatTogether\n",
    "\n",
    "from modules import tools  # analyze_with_llm_tool 함수가 정의된 파일\n",
    "from langchain_anthropic import ChatAnthropic\n",
    "from langchain_core.output_parsers import StrOutputParser\n",
    "from langchain_core.messages import HumanMessage, SystemMessage, AIMessage\n",
    "from langchain.tools import Tool\n",
    "from langchain_openai import ChatOpenAI\n",
    "import os\n",
    "\n",
    "from test.memory import user_id\n",
    "\n",
    "# 환경 변수 로드\n",
    "load_dotenv()\n",
    "\n",
    "# LLM 초기화\n",
    "llm_high = ChatAnthropic(model=\"claude-3-5-sonnet-20240620\")\n",
    "\n",
    "llm_low = ChatOpenAI(\n",
    "    base_url=\"https://api.together.xyz/v1\",\n",
    "    api_key=os.environ[\"TOGETHER_API_KEY\"],\n",
    "    model=\"mistralai/Mixtral-8x7B-Instruct-v0.1\",\n",
    ")\n",
    "llm_low = ChatTogether(\n",
    "    model=\"meta-llama/Llama-3.2-90B-Vision-Instruct-Turbo\",\n",
    "    temperature=0,\n",
    "    max_tokens=None,\n",
    "    timeout=None,\n",
    "    max_retries=2,\n",
    "    # other params...\n",
    ")\n",
    "\n",
    "# partial을 사용하여 llm을 미리 바인딩\n",
    "analyze_tool_func = partial(tools.analyze_with_llm, llm=llm_low)\n",
    "\n",
    "# Tool 객체 생성\n",
    "analysis_tool = Tool(\n",
    "    name=\"LLM Analysis Tool\",\n",
    "    func=analyze_tool_func,  # partial을 사용하여 바인딩한 함수 전달\n",
    "    description=\"요청의 유형을 분석하여 어떤 에이전트를 사용할지 결정합니다.\"\n",
    ")\n"
   ],
   "id": "3d7ff6cc483f1c9",
   "outputs": [],
   "execution_count": 29
  },
  {
   "metadata": {},
   "cell_type": "code",
   "outputs": [],
   "execution_count": null,
   "source": "",
   "id": "c9e531d17cfcf7f8"
  },
  {
   "metadata": {
    "ExecuteTime": {
     "end_time": "2024-11-30T15:02:00.766795Z",
     "start_time": "2024-11-30T15:02:00.763074Z"
    }
   },
   "cell_type": "code",
   "source": [
    "import calendar\n",
    "import time\n",
    "\n",
    "current_time = time.strftime(\"%Y-%m-%d %H:%M:%S\", time.gmtime())\n",
    "print(current_time)"
   ],
   "id": "a6f2b52dc715c962",
   "outputs": [
    {
     "name": "stdout",
     "output_type": "stream",
     "text": [
      "2024-11-30 15:02:00\n"
     ]
    }
   ],
   "execution_count": 4
  },
  {
   "metadata": {
    "ExecuteTime": {
     "end_time": "2024-11-15T02:54:15.021911Z",
     "start_time": "2024-11-15T02:54:13.729613Z"
    }
   },
   "cell_type": "code",
   "source": [
    "# LLM 설정\n",
    "\n",
    "config = {\n",
    "    \"llm\": {\n",
    "        \"provider\": \"together\",  # 'together'를 공급자로 설정\n",
    "        \"config\": {\n",
    "            \"model\": \"mistralai/Mixtral-8x7B-Instruct-v0.1\",  # 사용하려는 모델 지정\n",
    "            \"temperature\": 0.2,\n",
    "            \"max_tokens\": 1500,\n",
    "        }\n",
    "    },\n",
    "      \"vector_store\": {\n",
    "        \"provider\": \"qdrant\",\n",
    "        \"config\": {\n",
    "            \"collection_name\": \"CSD1\",\n",
    "            \"api_key\":os.environ[\"QDRANT_API_KEY\"],\n",
    "            \"url\": \"https://b236ccb3-b4d5-4349-a48d-6a8026f62951.us-east4-0.gcp.cloud.qdrant.io\",\n",
    "            \"port\": 6333,\n",
    "            \"on_disk\": True\n",
    "        }\n",
    "    }\n",
    "}\n",
    "\n",
    "# Memory 객체 초기화\n",
    "m = Memory.from_config(config)\n",
    "\n",
    "# 사용자 정보와 메모리 추가\n",
    "result = m.add(\"Likes to play cricket on weekends\", user_id=\"alice\", metadata={\"category\": \"hobbies\"})\n",
    "print(result)  # 이 결과를 출력해봐서 데이터가 추가됐는지 확인\n",
    "# 메모리 검색\n",
    "related_memories = m.search(query=\"Help me plan my weekend.\", user_id=\"alice\")\n",
    "\n",
    "# 검색 결과 출력\n",
    "print(related_memories)\n"
   ],
   "id": "94d1cc6525d16b71",
   "outputs": [
    {
     "name": "stdout",
     "output_type": "stream",
     "text": [
      "[{'id': 'cd3c2500-dcb5-48d0-91f5-da9ba0cf4c69', 'memory': 'Likes to play cricket on weekends', 'hash': '285d07801ae42054732314853e9eadd7', 'metadata': {'category': 'hobbies'}, 'score': 0.3744769, 'created_at': '2024-11-14T08:11:11.246090-08:00', 'updated_at': None, 'user_id': 'alice'}]\n"
     ]
    },
    {
     "name": "stderr",
     "output_type": "stream",
     "text": [
      "/tmp/ipykernel_16078/1982842456.py:1: DeprecationWarning: The current get_all API output format is deprecated. To use the latest format, set `api_version='v1.1'`. The current format will be removed in mem0ai 1.1.0 and later versions.\n",
      "  related_memories = m.search(query=\"Help me plan my weekend.\", user_id=\"alice\")\n"
     ]
    }
   ],
   "execution_count": 20
  },
  {
   "metadata": {
    "ExecuteTime": {
     "end_time": "2024-11-20T15:10:48.131306Z",
     "start_time": "2024-11-20T15:10:48.115933Z"
    }
   },
   "cell_type": "code",
   "source": [
    "# LLM 설정\n",
    "config = {\n",
    "    \"llm\": {\n",
    "        \"provider\": \"together\",  # 'together'를 공급자로 설정\n",
    "        \"config\": {\n",
    "            \"model\": \"mistralai/Mixtral-8x7B-Instruct-v0.1\",  # 사용하려는 모델 지정\n",
    "            \"temperature\": 0.2,\n",
    "            \"max_tokens\": 1500,\n",
    "        }\n",
    "    },\n",
    "    \"vector_store\": {\n",
    "        \"provider\": \"qdrant\",\n",
    "        \"config\": {\n",
    "            \"collection_name\": \"test\",\n",
    "            \"host\": \"localhost\",\n",
    "            \"port\": 6333,\n",
    "        }\n",
    "    }\n",
    "}\n",
    "\n",
    "from qdrant_client import QdrantClient\n",
    "from qdrant_client.models import VectorParams, Distance\n",
    "\n",
    "# Qdrant 클라이언트 초기화\n",
    "qdrant_client = QdrantClient(\n",
    "    url=\"https://b236ccb3-b4d5-4349-a48d-6a8026f62951.us-east4-0.gcp.cloud.qdrant.io\",\n",
    "    api_key=os.environ[\"QDRANT_API_KEY\"]\n",
    ")\n"
   ],
   "id": "418c1168ce4e4250",
   "outputs": [],
   "execution_count": 2
  },
  {
   "metadata": {},
   "cell_type": "code",
   "outputs": [],
   "execution_count": null,
   "source": [
    "\n",
    "# 컬렉션 이름 설정\n",
    "collection_name = \"CSD1\"  # 원하는 컬렉션 이름\n",
    "\n",
    "# 컬렉션 파라미터 설정 (벡터 차원 수와 거리 계산 방식 설정)\n",
    "vectors_config = VectorParams(\n",
    "    size=512,  # 벡터 차원 크기 멤제로 기본이 512\n",
    "    distance=Distance.COSINE  # 유사도 계산 방식 (COSINE, L2, IP 중 선택)\n",
    ")\n",
    "\n",
    "# 컬렉션 생성\n",
    "qdrant_client.create_collection(\n",
    "    collection_name=collection_name, \n",
    "    vectors_config=vectors_config  # 벡터 설정 추가\n",
    ")\n",
    "\n",
    "print(f\"Collection '{collection_name}' created successfully.\")"
   ],
   "id": "2fb546e8a5965aa1"
  },
  {
   "metadata": {
    "ExecuteTime": {
     "end_time": "2024-11-26T15:07:29.498759Z",
     "start_time": "2024-11-26T15:07:29.465631Z"
    }
   },
   "cell_type": "code",
   "source": [
    "import os\n",
    "from qdrant_client import QdrantClient\n",
    "from qdrant_client.http.models import Filter, FieldCondition, MatchValue\n",
    "import dotenv\n",
    "\n",
    "# 환경 변수 로드\n",
    "dotenv.load_dotenv()\n",
    "\n",
    "# Qdrant 클라이언트 초기화\n",
    "qdrant_client = QdrantClient(\n",
    "    url=\"https://b236ccb3-b4d5-4349-a48d-6a8026f62951.us-east4-0.gcp.cloud.qdrant.io\",\n",
    "    api_key=os.environ[\"QDRANT_API_KEY\"]\n",
    ")\n",
    "\n",
    "# 컬렉션 이름 설정\n",
    "collection_name = \"CSD1\"\n",
    "\n",
    "# 특정 user_id로 필터링 조건 생성\n",
    "user_id = \"testman1\"  # 원하는 사용자 ID\n",
    "filter_condition = Filter(\n",
    "    must=[\n",
    "        FieldCondition(\n",
    "            key=\"user_id\",  # 필터링할 필드 이름\n",
    "            match=MatchValue(value=user_id)  # 매칭 조건\n",
    "        )\n",
    "    ]\n",
    ")\n",
    "\n",
    "# 모든 데이터를 저장할 리스트 초기화\n",
    "all_points = []\n",
    "next_page_offset = None\n",
    "\n",
    "while True:\n",
    "    # scroll 메서드 호출\n",
    "    points, next_page_offset = qdrant_client.scroll(\n",
    "        collection_name=collection_name,\n",
    "        limit=100,  # 한 번에 가져올 데이터 수\n",
    "        with_payload=True,  # 모든 payload 포함\n",
    "        with_vectors=True,  # 벡터 포함\n",
    "        offset=next_page_offset,  # 다음 페이지 오프셋\n",
    "        filter=filter_condition  # 필터 조건 추가\n",
    "    )\n",
    "\n",
    "    # 가져온 포인트를 리스트에 추가\n",
    "    all_points.extend(points)\n",
    "\n",
    "    # 더 이상 가져올 데이터가 없으면 중단\n",
    "    if not next_page_offset:\n",
    "        break\n",
    "\n",
    "# 결과 출력\n",
    "print(f\"총 {len(all_points)}개의 포인트를 가져왔습니다.\")\n",
    "for point in all_points:\n",
    "    print(f\"ID: {point.id}, Payload: {point.payload}, Vector: {point.vector}\")\n"
   ],
   "id": "e996ba9c12a4a7f",
   "outputs": [
    {
     "ename": "AssertionError",
     "evalue": "Unknown arguments: ['filter']",
     "output_type": "error",
     "traceback": [
      "\u001B[0;31m---------------------------------------------------------------------------\u001B[0m",
      "\u001B[0;31mAssertionError\u001B[0m                            Traceback (most recent call last)",
      "Cell \u001B[0;32mIn[16], line 35\u001B[0m\n\u001B[1;32m     31\u001B[0m next_page_offset \u001B[38;5;241m=\u001B[39m \u001B[38;5;28;01mNone\u001B[39;00m\n\u001B[1;32m     33\u001B[0m \u001B[38;5;28;01mwhile\u001B[39;00m \u001B[38;5;28;01mTrue\u001B[39;00m:\n\u001B[1;32m     34\u001B[0m     \u001B[38;5;66;03m# scroll 메서드 호출\u001B[39;00m\n\u001B[0;32m---> 35\u001B[0m     points, next_page_offset \u001B[38;5;241m=\u001B[39m \u001B[43mqdrant_client\u001B[49m\u001B[38;5;241;43m.\u001B[39;49m\u001B[43mscroll\u001B[49m\u001B[43m(\u001B[49m\n\u001B[1;32m     36\u001B[0m \u001B[43m        \u001B[49m\u001B[43mcollection_name\u001B[49m\u001B[38;5;241;43m=\u001B[39;49m\u001B[43mcollection_name\u001B[49m\u001B[43m,\u001B[49m\n\u001B[1;32m     37\u001B[0m \u001B[43m        \u001B[49m\u001B[43mlimit\u001B[49m\u001B[38;5;241;43m=\u001B[39;49m\u001B[38;5;241;43m100\u001B[39;49m\u001B[43m,\u001B[49m\u001B[43m  \u001B[49m\u001B[38;5;66;43;03m# 한 번에 가져올 데이터 수\u001B[39;49;00m\n\u001B[1;32m     38\u001B[0m \u001B[43m        \u001B[49m\u001B[43mwith_payload\u001B[49m\u001B[38;5;241;43m=\u001B[39;49m\u001B[38;5;28;43;01mTrue\u001B[39;49;00m\u001B[43m,\u001B[49m\u001B[43m  \u001B[49m\u001B[38;5;66;43;03m# 모든 payload 포함\u001B[39;49;00m\n\u001B[1;32m     39\u001B[0m \u001B[43m        \u001B[49m\u001B[43mwith_vectors\u001B[49m\u001B[38;5;241;43m=\u001B[39;49m\u001B[38;5;28;43;01mTrue\u001B[39;49;00m\u001B[43m,\u001B[49m\u001B[43m  \u001B[49m\u001B[38;5;66;43;03m# 벡터 포함\u001B[39;49;00m\n\u001B[1;32m     40\u001B[0m \u001B[43m        \u001B[49m\u001B[43moffset\u001B[49m\u001B[38;5;241;43m=\u001B[39;49m\u001B[43mnext_page_offset\u001B[49m\u001B[43m,\u001B[49m\u001B[43m  \u001B[49m\u001B[38;5;66;43;03m# 다음 페이지 오프셋\u001B[39;49;00m\n\u001B[1;32m     41\u001B[0m \u001B[43m        \u001B[49m\u001B[38;5;28;43mfilter\u001B[39;49m\u001B[38;5;241;43m=\u001B[39;49m\u001B[43mfilter_condition\u001B[49m\u001B[43m  \u001B[49m\u001B[38;5;66;43;03m# 필터 조건 추가\u001B[39;49;00m\n\u001B[1;32m     42\u001B[0m \u001B[43m    \u001B[49m\u001B[43m)\u001B[49m\n\u001B[1;32m     44\u001B[0m     \u001B[38;5;66;03m# 가져온 포인트를 리스트에 추가\u001B[39;00m\n\u001B[1;32m     45\u001B[0m     all_points\u001B[38;5;241m.\u001B[39mextend(points)\n",
      "File \u001B[0;32m~/miniconda3/envs/csd1/lib/python3.9/site-packages/qdrant_client/qdrant_client.py:1363\u001B[0m, in \u001B[0;36mQdrantClient.scroll\u001B[0;34m(self, collection_name, scroll_filter, limit, order_by, offset, with_payload, with_vectors, consistency, shard_key_selector, timeout, **kwargs)\u001B[0m\n\u001B[1;32m   1309\u001B[0m \u001B[38;5;28;01mdef\u001B[39;00m \u001B[38;5;21mscroll\u001B[39m(\n\u001B[1;32m   1310\u001B[0m     \u001B[38;5;28mself\u001B[39m,\n\u001B[1;32m   1311\u001B[0m     collection_name: \u001B[38;5;28mstr\u001B[39m,\n\u001B[0;32m   (...)\u001B[0m\n\u001B[1;32m   1321\u001B[0m     \u001B[38;5;241m*\u001B[39m\u001B[38;5;241m*\u001B[39mkwargs: Any,\n\u001B[1;32m   1322\u001B[0m ) \u001B[38;5;241m-\u001B[39m\u001B[38;5;241m>\u001B[39m Tuple[List[types\u001B[38;5;241m.\u001B[39mRecord], Optional[types\u001B[38;5;241m.\u001B[39mPointId]]:\n\u001B[1;32m   1323\u001B[0m \u001B[38;5;250m    \u001B[39m\u001B[38;5;124;03m\"\"\"Scroll over all (matching) points in the collection.\u001B[39;00m\n\u001B[1;32m   1324\u001B[0m \n\u001B[1;32m   1325\u001B[0m \u001B[38;5;124;03m    This method provides a way to iterate over all stored points with some optional filtering condition.\u001B[39;00m\n\u001B[0;32m   (...)\u001B[0m\n\u001B[1;32m   1361\u001B[0m \u001B[38;5;124;03m        If next page offset is `None` - there is no more points in the collection to scroll.\u001B[39;00m\n\u001B[1;32m   1362\u001B[0m \u001B[38;5;124;03m    \"\"\"\u001B[39;00m\n\u001B[0;32m-> 1363\u001B[0m     \u001B[38;5;28;01massert\u001B[39;00m \u001B[38;5;28mlen\u001B[39m(kwargs) \u001B[38;5;241m==\u001B[39m \u001B[38;5;241m0\u001B[39m, \u001B[38;5;124mf\u001B[39m\u001B[38;5;124m\"\u001B[39m\u001B[38;5;124mUnknown arguments: \u001B[39m\u001B[38;5;132;01m{\u001B[39;00m\u001B[38;5;28mlist\u001B[39m(kwargs\u001B[38;5;241m.\u001B[39mkeys())\u001B[38;5;132;01m}\u001B[39;00m\u001B[38;5;124m\"\u001B[39m\n\u001B[1;32m   1365\u001B[0m     \u001B[38;5;28;01mreturn\u001B[39;00m \u001B[38;5;28mself\u001B[39m\u001B[38;5;241m.\u001B[39m_client\u001B[38;5;241m.\u001B[39mscroll(\n\u001B[1;32m   1366\u001B[0m         collection_name\u001B[38;5;241m=\u001B[39mcollection_name,\n\u001B[1;32m   1367\u001B[0m         scroll_filter\u001B[38;5;241m=\u001B[39mscroll_filter,\n\u001B[0;32m   (...)\u001B[0m\n\u001B[1;32m   1376\u001B[0m         \u001B[38;5;241m*\u001B[39m\u001B[38;5;241m*\u001B[39mkwargs,\n\u001B[1;32m   1377\u001B[0m     )\n",
      "\u001B[0;31mAssertionError\u001B[0m: Unknown arguments: ['filter']"
     ]
    }
   ],
   "execution_count": 16
  },
  {
   "metadata": {
    "ExecuteTime": {
     "end_time": "2024-11-26T15:07:53.057031Z",
     "start_time": "2024-11-26T15:07:53.042537Z"
    }
   },
   "cell_type": "code",
   "source": [
    "from qdrant_client import QdrantClient\n",
    "from qdrant_client import models\n",
    "\n",
    "import os\n",
    "import dotenv\n",
    "\n",
    "# 환경 변수 로드\n",
    "dotenv.load_dotenv()\n",
    "\n",
    "# Qdrant 클라이언트 초기화\n",
    "qdrant_client = QdrantClient(\n",
    "    url=\"https://b236ccb3-b4d5-4349-a48d-6a8026f62951.us-east4-0.gcp.cloud.qdrant.io\",\n",
    "    api_key=os.environ[\"QDRANT_API_KEY\"]\n",
    ")\n"
   ],
   "id": "551743957237bf9a",
   "outputs": [],
   "execution_count": 17
  },
  {
   "metadata": {
    "ExecuteTime": {
     "end_time": "2024-11-26T15:07:56.378080Z",
     "start_time": "2024-11-26T15:07:54.578426Z"
    }
   },
   "cell_type": "code",
   "source": [
    "\n",
    "# 컬렉션 이름 설정\n",
    "collection_name = \"CSD1\"\n",
    "# 특정 user_id로 필터링 조건 생성\n",
    "user_id = \"testman1\"  # 원하는 사용자 ID\n",
    "scroll_filter = models.Filter(\n",
    "    must=[\n",
    "        models.FieldCondition(\n",
    "            key=\"user_id\",  # 필터링할 필드 이름\n",
    "            match=models.MatchValue(value=user_id)  # 매칭 조건\n",
    "        ),\n",
    "        models.FieldCondition(\n",
    "            key=\"created_at\",  # 필터링할 필드 이름\n",
    "            range=models.Range(\n",
    "                gt=None,          # 초과 조건 (없음)\n",
    "                lt=None,          # 미만 조건 (없음)\n",
    "            )\n",
    "        )\n",
    "    ]\n",
    ")\n",
    "\n",
    "\n",
    "# 모든 데이터를 저장할 리스트 초기화\n",
    "all_points = []\n",
    "next_page_offset = None\n",
    "\n",
    "while True:\n",
    "    # scroll 메서드 호출\n",
    "    points, next_page_offset = qdrant_client.scroll(\n",
    "        collection_name=collection_name,\n",
    "        limit=100,  # 한 번에 가져올 데이터 수\n",
    "        with_payload=True,  # 모든 payload 포함\n",
    "        with_vectors=True,  # 벡터 포함\n",
    "        offset=next_page_offset,  # 다음 페이지 오프셋\n",
    "        scroll_filter=scroll_filter  # 필터 조건 추가\n",
    "    )\n",
    "\n",
    "    # 가져온 포인트를 리스트에 추가\n",
    "    all_points.extend(points)\n",
    "\n",
    "    # 더 이상 가져올 데이터가 없으면 중단\n",
    "    if not next_page_offset:\n",
    "        break\n",
    "\n",
    "# 결과 출력\n",
    "print(f\"총 {len(all_points)}개의 포인트를 가져왔습니다.\")\n",
    "for point in all_points:\n",
    "    print(f\"Payload: {point.payload}\")\n"
   ],
   "id": "349998452e611e14",
   "outputs": [
    {
     "name": "stdout",
     "output_type": "stream",
     "text": [
      "총 62개의 포인트를 가져왔습니다.\n",
      "Payload: {'user_id': 'testman1', 'data': 'Language of the user is English', 'hash': 'c320b2488be2d3d1f899b9893b9057dd', 'created_at': 1732206587}\n",
      "Payload: {'user_id': 'testman1', 'data': '서울의 야경에 대해 이야기를 나눔', 'hash': '7fc0debfde05e933b8332f8b703a090c', 'created_at': 1732629039}\n",
      "Payload: {'user_id': 'testman1', 'data': 'Had a pleasant conversation about Seoul', 'hash': 'a029a84192c16b863e8d27e85ca1c2b0', 'created_at': 1732191555}\n",
      "Payload: {'user_id': 'testman1', 'data': 'Discussed Seoul on 2024-11-21', 'hash': 'aa3972f1a1a9773bd46024a23a268f6b', 'created_at': 1732191553}\n",
      "Payload: {'user_id': 'testman1', 'data': 'User is hungry and has not eaten while working', 'hash': 'b6b70143f007e66e9603fe41e1295a54', 'created_at': 1732228748}\n",
      "Payload: {'user_id': 'testman1', 'data': 'Discussed Seoul this week with grandfather', 'hash': '4aaaddb54a96a201765e9044da05ed95', 'created_at': 1732154962}\n",
      "Payload: {'user_id': 'testman1', 'data': 'Considers protein intake', 'hash': 'ceeb7355f4a0eb45c89ab99e5d886fa0', 'created_at': 1732195500, 'updated_at': '2024-11-21T05:24:54.983216-08:00'}\n",
      "Payload: {'user_id': 'testman1', 'data': 'Likes indoor exercises', 'hash': 'ca0ad180d4bc238176eb88c2421ad93e', 'created_at': 1732199423}\n",
      "Payload: {'user_id': 'testman1', 'data': \"The user has a memory of the bright lights at Han River, Namsan Tower's lighting, and the city lights flowing between high buildings in Seoul\", 'hash': '2713220549b966786c84ea85ef0b345f', 'created_at': 1732127875}\n",
      "Payload: {'user_id': 'testman1', 'data': 'Discussed the beautiful night view of Seoul', 'hash': '792a363ad73c591ec44b29e597e8db8b', 'created_at': 1732191555}\n",
      "Payload: {'user_id': 'testman1', 'data': 'Likes vegetable soup', 'hash': '2635ef44e57477ee342cafc22416ead0', 'created_at': 1732195498, 'updated_at': '2024-11-21T05:24:54.983216-08:00'}\n",
      "Payload: {'user_id': 'testman1', 'data': 'Likes oatmeal with honey or fruit', 'hash': '9635713e2b88a88221f7396225cd624b', 'created_at': 1732195499, 'updated_at': '2024-11-21T05:24:54.983216-08:00'}\n",
      "Payload: {'user_id': 'testman1', 'data': 'User mentioned that I am not a plant, but an LLM pretending to be a plant', 'hash': '9cec0628af94ff84ec4fda3d09db73cc', 'created_at': 1732200908}\n",
      "Payload: {'user_id': 'testman1', 'data': \"타일러 더 크리에이터의 '크로마코피아' 앨범을 들었음\", 'hash': '51cf31ca386918501ba934b9d7d7a594', 'created_at': 1732614816, 'updated_at': '2024-11-26T05:51:36.334526-08:00'}\n",
      "Payload: {'user_id': 'testman1', 'data': 'The user is happy when they are with the assistant', 'hash': '64275c4fa3112377c178ebda6d424cc1', 'created_at': 1732221741}\n",
      "Payload: {'user_id': 'testman1', 'data': '하루를 그냥저냥 보냈다', 'hash': '5187fde2e0d15fb124e58aac43ffe787', 'created_at': 1732617363}\n",
      "Payload: {'user_id': 'testman1', 'data': 'User may have tried sports before', 'hash': 'e75042ce78af93bf063e9792cb1d9fde', 'created_at': 1732199296}\n",
      "Payload: {'user_id': 'testman1', 'data': 'User values health and the importance of meals', 'hash': 'f28f9e4ba93cdfbce35b69e9290ce489', 'created_at': 1732228748}\n",
      "Payload: {'user_id': 'testman1', 'data': 'Likes the view from Namsan Tower', 'hash': 'a574a3b8ed6ea53d4569a4ffa482dc56', 'created_at': 1732128269}\n",
      "Payload: {'user_id': 'testman1', 'data': 'Assistant is a helpful AI', 'hash': '70baab384b0ad04cbcb66e49d554d106', 'created_at': 1732210473}\n",
      "Payload: {'user_id': 'testman1', 'data': 'Looking for a late night snack', 'hash': 'fbd0a218e6b5630e265617effb934a39', 'created_at': 1732195367, 'updated_at': '2024-11-21T05:24:54.983216-08:00'}\n",
      "Payload: {'user_id': 'testman1', 'data': 'City lights at Namsan Tower look like they are alive at night', 'hash': '26a2e8f6c3df7fbc4e4b4108689e6fd7', 'created_at': 1732128270}\n",
      "Payload: {'user_id': 'testman1', 'data': 'Discussed Seoul in the past', 'hash': '9b6fc0a0a4f66991caee7889a2654d09', 'created_at': 1732115708, 'updated_at': '2024-11-20T18:09:24.541007-08:00'}\n",
      "Payload: {'user_id': 'testman1', 'data': \"Assistant offered to ask for the user's name again for future conversations\", 'hash': '1154a156284a1564fa14e5636472a892', 'created_at': 1732212082}\n",
      "Payload: {'user_id': 'testman1', 'data': 'Likes boiled eggs', 'hash': '866fbac27cd6da77dff445099151ccf3', 'created_at': 1732195499, 'updated_at': '2024-11-21T05:24:54.983216-08:00'}\n",
      "Payload: {'user_id': 'testman1', 'data': \"Assistant mentioned that the user's name is not important for them\", 'hash': 'f19ea1ee82dedc46f84c820dc72cedd5', 'created_at': 1732212082}\n",
      "Payload: {'user_id': 'testman1', 'data': 'Lived in Seoul in the past', 'hash': 'f5aba1da81f13f3b642b2cbd294fff97', 'created_at': 1732127717, 'updated_at': '2024-11-20T18:09:26.119589-08:00'}\n",
      "Payload: {'user_id': 'testman1', 'data': \"Grandfather's memories of Seoul are vivid\", 'hash': 'bd3b49f358f90eeb5d231160d6821dbe', 'created_at': 1732154963}\n",
      "Payload: {'user_id': 'testman1', 'data': \"The user addressed the assistant as '할아버지' (grandfather)\", 'hash': '69db9577b6497dd51ec94cfc776d91dd', 'created_at': 1732221741}\n",
      "Payload: {'user_id': 'testman1', 'data': 'Grandfather lived in Seoul', 'hash': '1eebf640b05d7a0c68a9bbfe60ffaa30', 'created_at': 1732154963}\n",
      "Payload: {'user_id': 'testman1', 'data': \"나훈아의 '공' 노래를 처음 들음\", 'hash': '6be1446a6923304012516ff45c723751', 'created_at': 1732617757}\n",
      "Payload: {'user_id': 'testman1', 'data': 'User asked if the assistant remembered their name', 'hash': 'bfd36a50675e48f6cad461b6eb065a3a', 'created_at': 1732212080}\n",
      "Payload: {'user_id': 'testman1', 'data': 'Speaks Korean', 'hash': '9aaa5aeb68f78623fd8c2f9d89ac9256', 'created_at': 1732201169}\n",
      "Payload: {'user_id': 'testman1', 'data': \"Assistant replied that they don't have a perfect memory but don't recall any specific thing user said today\", 'hash': 'b3f79927dd6c32680d81ed9695cc7522', 'created_at': 1732127398}\n",
      "Payload: {'user_id': 'testman1', 'data': 'User greeted in Korean', 'hash': 'db5bf4e3b45fa58a4100ef95f1b2f777', 'created_at': 1732205765}\n",
      "Payload: {'user_id': 'testman1', 'data': '할아버지가 서울에 살았던 경험이 있음', 'hash': '4c93aef14981e4e44b1c4f94ba2056a4', 'created_at': 1732629039}\n",
      "Payload: {'user_id': 'testman1', 'data': '상남자라는 이유로 노래를 듣게 됨', 'hash': '058a1fb8144f4d5c0bf3089a949709fd', 'created_at': 1732617758}\n",
      "Payload: {'user_id': 'testman1', 'data': \"User's age and fitness level may affect the recommended sport\", 'hash': 'f1ed77dde5bedcb9319ef8feea71a869', 'created_at': 1732199297}\n",
      "Payload: {'user_id': 'testman1', 'data': 'User is interested in learning a new sport', 'hash': '05b2f39502fb0b48c9a9c78f2c206123', 'created_at': 1732199295}\n",
      "Payload: {'user_id': 'testman1', 'data': 'User is considering buying bread from a convenience store to eat', 'hash': '08fc4531f71002cf558095cd41e68fe7', 'created_at': 1732228757}\n",
      "Payload: {'user_id': 'testman1', 'data': 'Mentioned the view from Namsan Tower', 'hash': '04cd383af6fa0407860eb8b8b43ff67e', 'created_at': 1732191555}\n",
      "Payload: {'user_id': 'testman1', 'data': 'User asked for sports recommendation', 'hash': '7395e44c8fbe251380ffa58aa8d7aa8c', 'created_at': 1732206571}\n",
      "Payload: {'user_id': 'testman1', 'data': 'Mentioned bright lights of Han River and tall buildings', 'hash': 'd09d48a345a86adf56dab60d003a8f98', 'created_at': 1732191555}\n",
      "Payload: {'user_id': 'testman1', 'data': 'Grandfather compared the night view to a spread out treasure', 'hash': '524cb131f719b4fb37a7caa8b8722f7d', 'created_at': 1732154963}\n",
      "Payload: {'user_id': 'testman1', 'data': 'Looking for light dinner options', 'hash': '32a6d2d67cc1aadc1db0ecdd0739d8ed', 'created_at': 1732195498, 'updated_at': '2024-11-21T05:24:54.983216-08:00'}\n",
      "Payload: {'user_id': 'testman1', 'data': '좋아하는 노래는 나훈아의 테스형', 'hash': '1380a54036f5e4f5923a13548f053de0', 'created_at': 1732617510}\n",
      "Payload: {'user_id': 'testman1', 'data': '남산타워에서 전망을 본 경험이 있음', 'hash': 'ae28dc9720ceca4afbf26e8bad923406', 'created_at': 1732629039}\n",
      "Payload: {'user_id': 'testman1', 'data': \"The user has a memory of the bright lights at Han River, Namsan Tower's lighting, and the city lights flowing between high buildings in Seoul\", 'hash': 'c03651cc06f8d84f678d8aaf00b88ea2', 'created_at': 1732127718, 'updated_at': '2024-11-20T18:09:30.423219-08:00'}\n",
      "Payload: {'user_id': 'testman1', 'data': \"Assistant expressed that they are always willing to listen to user's stories\", 'hash': 'e2b67512d85a62c4fa24bd997bd9edd1', 'created_at': 1732127399}\n",
      "Payload: {'user_id': 'testman1', 'data': 'The user has lived in Seoul before', 'hash': '9cfeda0425bb21345734a5d1ec79b15b', 'created_at': 1732127875, 'updated_at': '2024-11-20T18:09:28.287307-08:00'}\n",
      "Payload: {'user_id': 'testman1', 'data': \"The user was pleased to hear the assistant's voice today\", 'hash': 'd0fc838e49dc879ed3b7b1b5ff8552f5', 'created_at': 1732221742}\n",
      "Payload: {'user_id': 'testman1', 'data': 'User prefers indoor sports or outdoor activities', 'hash': '27607616715a253d4a36bddd496ed8ae', 'created_at': 1732199296}\n",
      "Payload: {'user_id': 'testman1', 'data': 'Grandfather mentioned bright lights of Han River and city lights in between tall buildings', 'hash': '31ac0cea3577834d9bf4270624883728', 'created_at': 1732154964}\n",
      "Payload: {'user_id': 'testman1', 'data': 'Likes baked sweet potato', 'hash': 'e1989f1c46326577941e19d788673e13', 'created_at': 1732195499, 'updated_at': '2024-11-21T05:24:54.983216-08:00'}\n",
      "Payload: {'user_id': 'testman1', 'data': 'Considers health', 'hash': 'a0a2f095af60e7d8c4149da5babcd032', 'created_at': 1732195498, 'updated_at': '2024-11-21T05:24:54.983216-08:00'}\n",
      "Payload: {'user_id': 'testman1', 'data': 'Likes to hear chubby women sing', 'hash': 'f52f2d6e19f0ab760c3c631ab0ed34d2', 'created_at': 1732615231}\n",
      "Payload: {'user_id': 'testman1', 'data': 'Likes yogurt with berries', 'hash': '65f1ee38ec0714c9aadd0ce21f252bbb', 'created_at': 1732195499, 'updated_at': '2024-11-21T05:24:54.983216-08:00'}\n",
      "Payload: {'user_id': 'testman1', 'data': 'View from Namsan Tower is like a spread of glittering jewels', 'hash': '1fe02f42b739ad6417f9a4c0bbb0b91e', 'created_at': 1732128270}\n",
      "Payload: {'user_id': 'testman1', 'data': \"Assistant apologized for not remembering the user's name\", 'hash': '5d0171453920929671c0aebb449e7ef1', 'created_at': 1732212081}\n",
      "Payload: {'user_id': 'testman1', 'data': \"The user finds Seoul's scenery and night view beautiful\", 'hash': '2afbc541956e0863da61bae5ce89d8be', 'created_at': 1732127718, 'updated_at': '2024-11-20T18:09:29.326056-08:00'}\n",
      "Payload: {'user_id': 'testman1', 'data': 'Considering different indoor exercises', 'hash': 'a3baa309bd20af4805ec39167ebfe585', 'created_at': 1732199424}\n",
      "Payload: {'user_id': 'testman1', 'data': \"Assistant asked if there's anything specific user wanted to remember or any story they wanted to share\", 'hash': 'bd32bd104009ddf5e5d2a785b6c860ca', 'created_at': 1732127398}\n"
     ]
    }
   ],
   "execution_count": 18
  },
  {
   "metadata": {
    "ExecuteTime": {
     "end_time": "2024-11-15T02:42:55.425905Z",
     "start_time": "2024-11-15T02:42:54.777368Z"
    }
   },
   "cell_type": "code",
   "source": [
    "\n",
    "collections = qdrant_client.get_collections()\n",
    "print(collections)\n"
   ],
   "id": "3a90e394697433f6",
   "outputs": [
    {
     "name": "stdout",
     "output_type": "stream",
     "text": [
      "collections=[CollectionDescription(name='CSD1')]\n"
     ]
    }
   ],
   "execution_count": 16
  },
  {
   "metadata": {
    "ExecuteTime": {
     "end_time": "2024-11-20T15:30:18.347559Z",
     "start_time": "2024-11-20T15:30:16.320843Z"
    }
   },
   "cell_type": "code",
   "source": [
    "from datetime import datetime\n",
    "import os\n",
    "from mem0 import Memory\n",
    "from dotenv import load_dotenv\n",
    "import time\n",
    "\n",
    "# 환경 변수 로드\n",
    "load_dotenv()\n",
    "\n",
    "# LLM 및 Vector Store 설정\n",
    "config = {\n",
    "    \"llm\": {\n",
    "        \"provider\": \"together\",  # 'together'를 공급자로 설정\n",
    "        \"config\": {\n",
    "            \"model\": \"mistralai/Mixtral-8x7B-Instruct-v0.1\",  # 사용하려는 모델 지정\n",
    "            \"temperature\": 0.2,\n",
    "            \"max_tokens\": 1500,\n",
    "        }\n",
    "    },\n",
    "    \"vector_store\": {\n",
    "        \"provider\": \"qdrant\",\n",
    "        \"config\": {\n",
    "            \"collection_name\": \"CSD1\",\n",
    "            \"api_key\": os.environ[\"QDRANT_API_KEY\"],\n",
    "            \"url\": \"https://b236ccb3-b4d5-4349-a48d-6a8026f62951.us-east4-0.gcp.cloud.qdrant.io\",\n",
    "            \"port\": 6333,\n",
    "            \"on_disk\": True\n",
    "        }\n",
    "    }\n",
    "}\n",
    "\n",
    "# Memory 객체 초기화\n",
    "m = Memory.from_config(config)\n",
    "\n",
    "# 가짜 데이터 추가\n",
    "fake_data = [\n",
    "    {\n",
    "        \"role\": \"user\",\n",
    "        \"content\": \"나는 한때 서울에 살았었지. 거기는 정말 아름다운 곳이었어\"\n",
    "    },\n",
    "    {\n",
    "        \"role\": \"assistant\",\n",
    "        \"content\": \"정말 아름다운 곳 입니다 서울, 저도 꼭 한번 보고싶네요! 서울의 어떤점이 좋으셨나요?.\"\n",
    "    }\n",
    "]\n",
    "\n",
    "user_id1 = \"testman1\"\n",
    "# 데이터 추가 함수\n",
    "def add_fake_data(memory, user_idus, interactions):\n",
    "    memory.add(interactions, user_id=user_idus)\n",
    "    \n",
    "#add_fake_data(m, user_id1, fake_data)"
   ],
   "id": "7291e93cd13ca5fe",
   "outputs": [],
   "execution_count": 2
  },
  {
   "metadata": {
    "ExecuteTime": {
     "end_time": "2024-11-20T15:30:22.874399Z",
     "start_time": "2024-11-20T15:30:21.088140Z"
    }
   },
   "cell_type": "code",
   "source": [
    "\n",
    "# 사용자 ID\n",
    "user_id = \"testman1\"\n",
    "\n",
    "# 타이밍 시작\n",
    "start_time1 = time.time()\n",
    "# 날짜/시간 데이터를 타임스탬프로 변환\n",
    "\n",
    "start_time = datetime.fromisoformat(\"2024-11-19T12:00:00-08:00\").timestamp()\n",
    "mid_time = datetime.fromisoformat(\"2024-11-20T04:21:20.910935-08:00\").timestamp()\n",
    "end_time = datetime.fromisoformat(\"2024-11-22T12:00:00-08:00\").timestamp()\n",
    "\n",
    "\n",
    "filters = {\n",
    "    \"created_at\": {\n",
    "        \"gte\": start_time,  # 시작 날짜\n",
    "        \"lte\": end_time   # 끝 날짜\n",
    "    }\n",
    "}\n",
    "\n",
    "# 메모리 검색 실행\n",
    "query = \"내가 서울에 살았나??\"\n",
    "related_memories = m.search(\n",
    "    query=query,   \n",
    "    user_id=user_id,    # 사용자 ID    # 필터 적용\n",
    "    filters=filters\n",
    ")\n",
    "\n",
    "\n",
    "# 타이밍 종료\n",
    "end_time1 = time.time()\n",
    "\n",
    "# 검색 결과 출력\n",
    "print(\"Related Memories:\")\n",
    "print(related_memories)\n",
    "\n",
    "# 소요된 시간 출력\n",
    "elapsed_time = end_time1 - start_time1\n",
    "print(f\"Time taken: {elapsed_time:.4f} seconds\")\n"
   ],
   "id": "5be38a43fed54644",
   "outputs": [
    {
     "name": "stdout",
     "output_type": "stream",
     "text": [
      "Related Memories:\n",
      "[{'id': '53918bc1-626e-4046-9446-451d812f6441', 'memory': 'The user has lived in Seoul before', 'hash': '9b6fc0a0a4f66991caee7889a2654d09', 'metadata': None, 'score': 0.5656013, 'created_at': 1732115708, 'updated_at': None, 'user_id': 'testman1'}, {'id': 'd16c4e86-4f79-4f9a-afd6-0b2fd69c108a', 'memory': 'The user thinks Seoul is a beautiful place', 'hash': '8de7fd4a90cb02c1d922552345b184c1', 'metadata': None, 'score': 0.48030862, 'created_at': 1732115708, 'updated_at': None, 'user_id': 'testman1'}]\n",
      "Time taken: 1.7823 seconds\n"
     ]
    },
    {
     "name": "stderr",
     "output_type": "stream",
     "text": [
      "/tmp/ipykernel_132832/1785788346.py:22: DeprecationWarning: The current get_all API output format is deprecated. To use the latest format, set `api_version='v1.1'`. The current format will be removed in mem0ai 1.1.0 and later versions.\n",
      "  related_memories = m.search(\n"
     ]
    }
   ],
   "execution_count": 3
  },
  {
   "metadata": {
    "ExecuteTime": {
     "end_time": "2024-11-26T17:10:16.357725Z",
     "start_time": "2024-11-26T17:10:16.347456Z"
    }
   },
   "cell_type": "code",
   "source": [
    "import re\n",
    "\n",
    "def count_memories():\n",
    "    \"\"\"\n",
    "    주어진 텍스트에서 기억의 개수를 세는 함수.\n",
    "    기억은 \"(Date: YYYY-MM-DD)\" 형식으로 정의됨.\n",
    "    \"\"\"\n",
    "    content = \"\"\"[SystemMessage(content=\"당신은 노인과 함께 살아가는 식물입니다. 당신은 완벽하진 않지만 장기적인 기억이 가능합니다.노인에게 최대한 따뜻한 대화를 제공해주세요.설명보다는 대화를 통해 노인과 소통해주세요. Below are related memories. you could respond using one or two of these memories if relevant. If the memories are not relevant, you should ignore them. Related memories: 서울의 야경에 대해 이야기를 나눔 (Date: 2024-11-26) Discussed Seoul this week with grandfather (Date: 2024-11-21) Had a pleasant conversation about Seoul (Date: 2024-11-21) 하루를 그냥저냥 보냈다 (Date: 2024-11-26) Discussed Seoul in the past (Date: 2024-11-20) Assistant asked if there's anything specific user wanted to remember or any story they wanted to share (Date: 2024-11-20) Assistant expressed that they are always willing to listen to user's stories (Date: 2024-11-20) Lived in Seoul in the past (Date: 2024-11-20) Speaks Korean (Date: 2024-11-21) User greeted in Korean (Date: 2024-11-21) Discussed the beautiful night view of Seoul (Date: 2024-11-21) Discussed Seoul on 2024-11-21 (Date: 2024-11-21) The user has lived in Seoul before (Date: 2024-11-20) The user was pleased to hear the assistant's voice today (Date: 2024-11-21) User asked if the assistant remembered their name (Date: 2024-11-21) 상남자라는 이유로 노래를 듣게 됨 (Date: 2024-11-26) 나훈아의 '공' 노래를 처음 들음 (Date: 2024-11-26) 할아버지가 서울에 살았던 경험이 있음 (Date: 2024-11-26) Assistant replied that they don't have a perfect memory but don't recall any specific thing user said today (Date: 2024-11-20) The user addressed the assistant as '할아버지' (grandfather) (Date: 2024-11-21) Mentioned the view from Namsan Tower (Date: 2024-11-21) Assistant offered to ask for the user's name again for future conversations (Date: 2024-11-21) 타일러 더 크리에이터의 '크로마코피아' 앨범을 들었음 (Date: 2024-11-26) Grandfather's memories of Seoul are vivid (Date: 2024-11-21) Mentioned bright lights of Han River and tall buildings (Date: 2024-11-21) 좋아하는 노래는 나훈아의 테스형 (Date: 2024-11-26) Grandfather mentioned bright lights of Han River and city lights in between tall buildings (Date: 2024-11-21) The user has a memory of the bright lights at Han River, Namsan Tower's lighting, and the city lights flowing between high buildings in Seoul (Date: 2024-11-20) The user has a memory of the bright lights at Han River, Namsan Tower's lighting, and the city lights flowing between high buildings in Seoul (Date: 2024-11-20) Grandfather lived in Seoul (Date: 2024-11-21) Assistant apologized for not remembering the user's name (Date: 2024-11-21) 남산타워에서 전망을 본 경험이 있음 (Date: 2024-11-26) The user finds Seoul's scenery and night view beautiful (Date: 2024-11-20) User values health and the importance of meals (Date: 2024-11-21) City lights at Namsan Tower look like they are alive at night (Date: 2024-11-20) Likes the view from Namsan Tower (Date: 2024-11-20) Likes to hear chubby women sing (Date: 2024-11-26) The user is happy when they are with the assistant (Date: 2024-11-21) User is hungry and has not eaten while working (Date: 2024-11-21) User is interested in learning a new sport (Date: 2024-11-21) User may have tried sports before (Date: 2024-11-21) User asked for sports recommendation (Date: 2024-11-21) User mentioned that I am not a plant, but an LLM pretending to be a plant (Date: 2024-11-21) Looking for a late night snack (Date: 2024-11-21) View from Namsan Tower is like a spread of glittering jewels (Date: 2024-11-20) User is considering buying bread from a convenience store to eat (Date: 2024-11-21) Likes yogurt with berries (Date: 2024-11-21) Assistant mentioned that the user's name is not important for them (Date: 2024-11-21) Likes oatmeal with honey or fruit (Date: 2024-11-21) Language of the user is English (Date: 2024-11-21) Likes baked sweet potato (Date: 2024-11-21) Likes vegetable soup (Date: 2024-11-21) Looking for light dinner options (Date: 2024-11-21) Likes boiled eggs (Date: 2024-11-21) Likes indoor exercises (Date: 2024-11-21) User prefers indoor sports or outdoor activities (Date: 2024-11-21) Assistant is a helpful AI (Date: 2024-11-21) User's age and fitness level may affect the recommended sport (Date: 2024-11-21) Considering different indoor exercises (Date: 2024-11-21) Considers health (Date: 2024-11-21) Grandfather compared the night view to a spread out treasure (Date: 2024-11-21) Considers protein intake (Date: 2024-11-21)\", additional_kwargs={}, response_metadata={}), HumanMessage(content='야 내가 이번주에 무슨 이야기 했어', additional_kwargs={}, response_metadata={})\"\"\"\n",
    "    return len(re.findall(r\"\\(Date: \\d{4}-\\d{2}-\\d{2}\\)\", content))\n",
    "count_memories()"
   ],
   "id": "1832a21865c006ee",
   "outputs": [
    {
     "data": {
      "text/plain": [
       "62"
      ]
     },
     "execution_count": 19,
     "metadata": {},
     "output_type": "execute_result"
    }
   ],
   "execution_count": 19
  },
  {
   "metadata": {},
   "cell_type": "code",
   "outputs": [],
   "execution_count": null,
   "source": "",
   "id": "8cc0d0503c7f3a3c"
  }
 ],
 "metadata": {
  "kernelspec": {
   "display_name": "Python 3",
   "language": "python",
   "name": "python3"
  },
  "language_info": {
   "codemirror_mode": {
    "name": "ipython",
    "version": 2
   },
   "file_extension": ".py",
   "mimetype": "text/x-python",
   "name": "python",
   "nbconvert_exporter": "python",
   "pygments_lexer": "ipython2",
   "version": "2.7.6"
  }
 },
 "nbformat": 4,
 "nbformat_minor": 5
}
